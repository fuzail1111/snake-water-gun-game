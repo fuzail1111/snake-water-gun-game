{
 "cells": [
  {
   "cell_type": "code",
   "execution_count": 1,
   "id": "758055fd-c75a-4bd0-bdf9-385b8a23d1a8",
   "metadata": {},
   "outputs": [
    {
     "name": "stdout",
     "output_type": "stream",
     "text": [
      "Welcome To the Snake , Water, Gun Game My Friend\n",
      "Choose One Option do YOU like:\n",
      "1.water,2.Gun,3.Snake,4.Exit\n"
     ]
    },
    {
     "name": "stdin",
     "output_type": "stream",
     "text": [
      " gun\n"
     ]
    },
    {
     "name": "stdout",
     "output_type": "stream",
     "text": [
      " Thank You For Choosing gun \n",
      "computer choose snake\n",
      "User Well Played You Win\n",
      "Choose One Option do YOU like:\n",
      "1.water,2.Gun,3.Snake,4.Exit\n"
     ]
    },
    {
     "name": "stdin",
     "output_type": "stream",
     "text": [
      " water\n"
     ]
    },
    {
     "name": "stdout",
     "output_type": "stream",
     "text": [
      " Thank You For Choosing water \n",
      "computer choose snake\n",
      "Oops? Computer wins\n",
      "Choose One Option do YOU like:\n",
      "1.water,2.Gun,3.Snake,4.Exit\n"
     ]
    },
    {
     "name": "stdin",
     "output_type": "stream",
     "text": [
      " snake\n"
     ]
    },
    {
     "name": "stdout",
     "output_type": "stream",
     "text": [
      " Thank You For Choosing snake \n",
      "computer choose snake\n",
      "It Is A Tied\n",
      "Choose One Option do YOU like:\n",
      "1.water,2.Gun,3.Snake,4.Exit\n"
     ]
    },
    {
     "name": "stdin",
     "output_type": "stream",
     "text": [
      " water\n"
     ]
    },
    {
     "name": "stdout",
     "output_type": "stream",
     "text": [
      " Thank You For Choosing water \n",
      "computer choose water\n",
      "It Is A Tied\n",
      "Choose One Option do YOU like:\n",
      "1.water,2.Gun,3.Snake,4.Exit\n"
     ]
    },
    {
     "name": "stdin",
     "output_type": "stream",
     "text": [
      " gun\n"
     ]
    },
    {
     "name": "stdout",
     "output_type": "stream",
     "text": [
      " Thank You For Choosing gun \n",
      "computer choose water\n",
      "Oops? Computer wins\n",
      "Choose One Option do YOU like:\n",
      "1.water,2.Gun,3.Snake,4.Exit\n"
     ]
    },
    {
     "name": "stdin",
     "output_type": "stream",
     "text": [
      " exit\n"
     ]
    },
    {
     "name": "stdout",
     "output_type": "stream",
     "text": [
      "Your Score : 1\n",
      "                Computer Score : 2\n"
     ]
    }
   ],
   "source": [
    "import random\n",
    "print(\"Welcome To the Snake , Water, Gun Game My Friend\")\n",
    "c = 0\n",
    "u = 0\n",
    "choise = [\"water\",\"gun\",\"snake\"]\n",
    "while(True):\n",
    "    print(\"Choose One Option do YOU like:\")\n",
    "    print(\"1.water,2.Gun,3.Snake,4.Exit\")\n",
    "\n",
    "    user = input().lower().strip()\n",
    "    computer =  random.choice(choise).lower() \n",
    "    if(user in choise):\n",
    "        print(f\" Thank You For Choosing {user} \")\n",
    "        print(f\"computer choose {computer}\")\n",
    "    elif(user == \"exit\"):\n",
    "        break   \n",
    "    else:\n",
    "        print(\"Invalid CHoosing, Sorry Please Try again\")\n",
    "        continue\n",
    "    if(user == computer):\n",
    "        print(\"It Is A Tied\")\n",
    "    elif(user== \"snake\"):\n",
    "        if(computer == \"water\"):\n",
    "            print(\"User Well Played You Win\")\n",
    "            u = u +1\n",
    "        elif(computer == \"gun\"):\n",
    "            print(\"Oops? Computer wins\")\n",
    "            c = c +1\n",
    "    elif(user== \"water\"):\n",
    "        if(computer == \"snake\"):\n",
    "            print(\"Oops? Computer wins\")\n",
    "            c = c+1\n",
    "        elif(computer== \"gun\"):\n",
    "            print(\"User Well Played You Win\")\n",
    "            u = u +1\n",
    "    elif(user==\"gun\"):\n",
    "        if(computer == \"snake\"):\n",
    "            print(\"User Well Played You Win\")\n",
    "            u = u +1\n",
    "        elif(computer == \"water\"):\n",
    "            print(\"Oops? Computer wins\")\n",
    "            c = c+1\n",
    "\n",
    "print(f\"\"\"Your Score : {u}\n",
    "                Computer Score : {c}\"\"\")\n",
    "\n",
    "            \n",
    "            \n",
    "            \n",
    "            \n",
    "\n",
    "    \n",
    "        \n",
    "\n",
    "    \n",
    "    \n",
    "\n"
   ]
  },
  {
   "cell_type": "code",
   "execution_count": null,
   "id": "9fee566a-75ad-4a52-905c-75e462635058",
   "metadata": {},
   "outputs": [],
   "source": []
  },
  {
   "cell_type": "code",
   "execution_count": null,
   "id": "cc199ef9-92a3-46de-a432-1a04c1467bc0",
   "metadata": {},
   "outputs": [],
   "source": []
  }
 ],
 "metadata": {
  "kernelspec": {
   "display_name": "Python 3 (ipykernel)",
   "language": "python",
   "name": "python3"
  },
  "language_info": {
   "codemirror_mode": {
    "name": "ipython",
    "version": 3
   },
   "file_extension": ".py",
   "mimetype": "text/x-python",
   "name": "python",
   "nbconvert_exporter": "python",
   "pygments_lexer": "ipython3",
   "version": "3.12.3"
  }
 },
 "nbformat": 4,
 "nbformat_minor": 5
}
